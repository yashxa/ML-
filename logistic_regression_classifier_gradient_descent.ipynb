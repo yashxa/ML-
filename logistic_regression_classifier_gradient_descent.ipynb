{
  "metadata": {
    "_change_revision": 0,
    "_is_fork": false,
    "kernelspec": {
      "display_name": "Python 3",
      "language": "python",
      "name": "python3"
    },
    "language_info": {
      "name": "python",
      "version": "3.10.13",
      "mimetype": "text/x-python",
      "codemirror_mode": {
        "name": "ipython",
        "version": 3
      },
      "pygments_lexer": "ipython3",
      "nbconvert_exporter": "python",
      "file_extension": ".py"
    },
    "kaggle": {
      "accelerator": "none",
      "dataSources": [
        {
          "sourceId": 420,
          "sourceType": "datasetVersion",
          "datasetId": 19
        }
      ],
      "dockerImageVersionId": 30646,
      "isInternetEnabled": false,
      "language": "python",
      "sourceType": "notebook",
      "isGpuEnabled": false
    },
    "colab": {
      "provenance": []
    }
  },
  "nbformat_minor": 0,
  "nbformat": 4,
  "cells": [
    {
      "cell_type": "markdown",
      "source": [
        "**** I've tried to implement the logistic regression classifier with gradient descent from scratch. I'm new to Machine Learning, therefore any inputs or suggestions would be very helpful for me.**"
      ],
      "metadata": {
        "_cell_guid": "6e8b7ef8-79cd-3132-a050-03d1fd9dbda6",
        "id": "C9aOqqPn8mhQ"
      }
    },
    {
      "cell_type": "code",
      "source": [
        "import pandas as pd\n",
        "import numpy as np\n",
        "import matplotlib.pyplot as plt"
      ],
      "metadata": {
        "_cell_guid": "496469ec-d3aa-0b5f-df1c-992283364cc0",
        "execution": {
          "iopub.status.busy": "2024-02-08T08:46:36.475977Z",
          "iopub.execute_input": "2024-02-08T08:46:36.476412Z",
          "iopub.status.idle": "2024-02-08T08:46:36.482769Z",
          "shell.execute_reply.started": "2024-02-08T08:46:36.476377Z",
          "shell.execute_reply": "2024-02-08T08:46:36.481093Z"
        },
        "trusted": true,
        "id": "bvqrmUXG8mhS"
      },
      "execution_count": null,
      "outputs": []
    },
    {
      "cell_type": "code",
      "source": [
        "df = pd.read_csv('Iris.csv')\n",
        "print(df.shape)\n",
        "\n",
        "df.head()"
      ],
      "metadata": {
        "_cell_guid": "f61089a3-426f-a031-d698-c7a0b00d9671",
        "execution": {
          "iopub.status.busy": "2024-02-08T08:46:36.485457Z",
          "iopub.execute_input": "2024-02-08T08:46:36.486399Z",
          "iopub.status.idle": "2024-02-08T08:46:36.514662Z",
          "shell.execute_reply.started": "2024-02-08T08:46:36.486355Z",
          "shell.execute_reply": "2024-02-08T08:46:36.513524Z"
        },
        "trusted": true,
        "colab": {
          "base_uri": "https://localhost:8080/",
          "height": 221
        },
        "id": "6oD5MqT18mhT",
        "outputId": "6c6eab83-1b01-4c7a-c66b-3ac59145aa5c"
      },
      "execution_count": null,
      "outputs": [
        {
          "output_type": "stream",
          "name": "stdout",
          "text": [
            "(150, 6)\n"
          ]
        },
        {
          "output_type": "execute_result",
          "data": {
            "text/plain": [
              "   Id  SepalLengthCm  SepalWidthCm  PetalLengthCm  PetalWidthCm      Species\n",
              "0   1            5.1           3.5            1.4           0.2  Iris-setosa\n",
              "1   2            4.9           3.0            1.4           0.2  Iris-setosa\n",
              "2   3            4.7           3.2            1.3           0.2  Iris-setosa\n",
              "3   4            4.6           3.1            1.5           0.2  Iris-setosa\n",
              "4   5            5.0           3.6            1.4           0.2  Iris-setosa"
            ],
            "text/html": [
              "\n",
              "  <div id=\"df-5d165398-65fd-486a-88d5-e2e7e93a4ed8\" class=\"colab-df-container\">\n",
              "    <div>\n",
              "<style scoped>\n",
              "    .dataframe tbody tr th:only-of-type {\n",
              "        vertical-align: middle;\n",
              "    }\n",
              "\n",
              "    .dataframe tbody tr th {\n",
              "        vertical-align: top;\n",
              "    }\n",
              "\n",
              "    .dataframe thead th {\n",
              "        text-align: right;\n",
              "    }\n",
              "</style>\n",
              "<table border=\"1\" class=\"dataframe\">\n",
              "  <thead>\n",
              "    <tr style=\"text-align: right;\">\n",
              "      <th></th>\n",
              "      <th>Id</th>\n",
              "      <th>SepalLengthCm</th>\n",
              "      <th>SepalWidthCm</th>\n",
              "      <th>PetalLengthCm</th>\n",
              "      <th>PetalWidthCm</th>\n",
              "      <th>Species</th>\n",
              "    </tr>\n",
              "  </thead>\n",
              "  <tbody>\n",
              "    <tr>\n",
              "      <th>0</th>\n",
              "      <td>1</td>\n",
              "      <td>5.1</td>\n",
              "      <td>3.5</td>\n",
              "      <td>1.4</td>\n",
              "      <td>0.2</td>\n",
              "      <td>Iris-setosa</td>\n",
              "    </tr>\n",
              "    <tr>\n",
              "      <th>1</th>\n",
              "      <td>2</td>\n",
              "      <td>4.9</td>\n",
              "      <td>3.0</td>\n",
              "      <td>1.4</td>\n",
              "      <td>0.2</td>\n",
              "      <td>Iris-setosa</td>\n",
              "    </tr>\n",
              "    <tr>\n",
              "      <th>2</th>\n",
              "      <td>3</td>\n",
              "      <td>4.7</td>\n",
              "      <td>3.2</td>\n",
              "      <td>1.3</td>\n",
              "      <td>0.2</td>\n",
              "      <td>Iris-setosa</td>\n",
              "    </tr>\n",
              "    <tr>\n",
              "      <th>3</th>\n",
              "      <td>4</td>\n",
              "      <td>4.6</td>\n",
              "      <td>3.1</td>\n",
              "      <td>1.5</td>\n",
              "      <td>0.2</td>\n",
              "      <td>Iris-setosa</td>\n",
              "    </tr>\n",
              "    <tr>\n",
              "      <th>4</th>\n",
              "      <td>5</td>\n",
              "      <td>5.0</td>\n",
              "      <td>3.6</td>\n",
              "      <td>1.4</td>\n",
              "      <td>0.2</td>\n",
              "      <td>Iris-setosa</td>\n",
              "    </tr>\n",
              "  </tbody>\n",
              "</table>\n",
              "</div>\n",
              "    <div class=\"colab-df-buttons\">\n",
              "\n",
              "  <div class=\"colab-df-container\">\n",
              "    <button class=\"colab-df-convert\" onclick=\"convertToInteractive('df-5d165398-65fd-486a-88d5-e2e7e93a4ed8')\"\n",
              "            title=\"Convert this dataframe to an interactive table.\"\n",
              "            style=\"display:none;\">\n",
              "\n",
              "  <svg xmlns=\"http://www.w3.org/2000/svg\" height=\"24px\" viewBox=\"0 -960 960 960\">\n",
              "    <path d=\"M120-120v-720h720v720H120Zm60-500h600v-160H180v160Zm220 220h160v-160H400v160Zm0 220h160v-160H400v160ZM180-400h160v-160H180v160Zm440 0h160v-160H620v160ZM180-180h160v-160H180v160Zm440 0h160v-160H620v160Z\"/>\n",
              "  </svg>\n",
              "    </button>\n",
              "\n",
              "  <style>\n",
              "    .colab-df-container {\n",
              "      display:flex;\n",
              "      gap: 12px;\n",
              "    }\n",
              "\n",
              "    .colab-df-convert {\n",
              "      background-color: #E8F0FE;\n",
              "      border: none;\n",
              "      border-radius: 50%;\n",
              "      cursor: pointer;\n",
              "      display: none;\n",
              "      fill: #1967D2;\n",
              "      height: 32px;\n",
              "      padding: 0 0 0 0;\n",
              "      width: 32px;\n",
              "    }\n",
              "\n",
              "    .colab-df-convert:hover {\n",
              "      background-color: #E2EBFA;\n",
              "      box-shadow: 0px 1px 2px rgba(60, 64, 67, 0.3), 0px 1px 3px 1px rgba(60, 64, 67, 0.15);\n",
              "      fill: #174EA6;\n",
              "    }\n",
              "\n",
              "    .colab-df-buttons div {\n",
              "      margin-bottom: 4px;\n",
              "    }\n",
              "\n",
              "    [theme=dark] .colab-df-convert {\n",
              "      background-color: #3B4455;\n",
              "      fill: #D2E3FC;\n",
              "    }\n",
              "\n",
              "    [theme=dark] .colab-df-convert:hover {\n",
              "      background-color: #434B5C;\n",
              "      box-shadow: 0px 1px 3px 1px rgba(0, 0, 0, 0.15);\n",
              "      filter: drop-shadow(0px 1px 2px rgba(0, 0, 0, 0.3));\n",
              "      fill: #FFFFFF;\n",
              "    }\n",
              "  </style>\n",
              "\n",
              "    <script>\n",
              "      const buttonEl =\n",
              "        document.querySelector('#df-5d165398-65fd-486a-88d5-e2e7e93a4ed8 button.colab-df-convert');\n",
              "      buttonEl.style.display =\n",
              "        google.colab.kernel.accessAllowed ? 'block' : 'none';\n",
              "\n",
              "      async function convertToInteractive(key) {\n",
              "        const element = document.querySelector('#df-5d165398-65fd-486a-88d5-e2e7e93a4ed8');\n",
              "        const dataTable =\n",
              "          await google.colab.kernel.invokeFunction('convertToInteractive',\n",
              "                                                    [key], {});\n",
              "        if (!dataTable) return;\n",
              "\n",
              "        const docLinkHtml = 'Like what you see? Visit the ' +\n",
              "          '<a target=\"_blank\" href=https://colab.research.google.com/notebooks/data_table.ipynb>data table notebook</a>'\n",
              "          + ' to learn more about interactive tables.';\n",
              "        element.innerHTML = '';\n",
              "        dataTable['output_type'] = 'display_data';\n",
              "        await google.colab.output.renderOutput(dataTable, element);\n",
              "        const docLink = document.createElement('div');\n",
              "        docLink.innerHTML = docLinkHtml;\n",
              "        element.appendChild(docLink);\n",
              "      }\n",
              "    </script>\n",
              "  </div>\n",
              "\n",
              "\n",
              "<div id=\"df-dc90ef39-cb66-4c1d-bde2-3ccd961dc91a\">\n",
              "  <button class=\"colab-df-quickchart\" onclick=\"quickchart('df-dc90ef39-cb66-4c1d-bde2-3ccd961dc91a')\"\n",
              "            title=\"Suggest charts\"\n",
              "            style=\"display:none;\">\n",
              "\n",
              "<svg xmlns=\"http://www.w3.org/2000/svg\" height=\"24px\"viewBox=\"0 0 24 24\"\n",
              "     width=\"24px\">\n",
              "    <g>\n",
              "        <path d=\"M19 3H5c-1.1 0-2 .9-2 2v14c0 1.1.9 2 2 2h14c1.1 0 2-.9 2-2V5c0-1.1-.9-2-2-2zM9 17H7v-7h2v7zm4 0h-2V7h2v10zm4 0h-2v-4h2v4z\"/>\n",
              "    </g>\n",
              "</svg>\n",
              "  </button>\n",
              "\n",
              "<style>\n",
              "  .colab-df-quickchart {\n",
              "      --bg-color: #E8F0FE;\n",
              "      --fill-color: #1967D2;\n",
              "      --hover-bg-color: #E2EBFA;\n",
              "      --hover-fill-color: #174EA6;\n",
              "      --disabled-fill-color: #AAA;\n",
              "      --disabled-bg-color: #DDD;\n",
              "  }\n",
              "\n",
              "  [theme=dark] .colab-df-quickchart {\n",
              "      --bg-color: #3B4455;\n",
              "      --fill-color: #D2E3FC;\n",
              "      --hover-bg-color: #434B5C;\n",
              "      --hover-fill-color: #FFFFFF;\n",
              "      --disabled-bg-color: #3B4455;\n",
              "      --disabled-fill-color: #666;\n",
              "  }\n",
              "\n",
              "  .colab-df-quickchart {\n",
              "    background-color: var(--bg-color);\n",
              "    border: none;\n",
              "    border-radius: 50%;\n",
              "    cursor: pointer;\n",
              "    display: none;\n",
              "    fill: var(--fill-color);\n",
              "    height: 32px;\n",
              "    padding: 0;\n",
              "    width: 32px;\n",
              "  }\n",
              "\n",
              "  .colab-df-quickchart:hover {\n",
              "    background-color: var(--hover-bg-color);\n",
              "    box-shadow: 0 1px 2px rgba(60, 64, 67, 0.3), 0 1px 3px 1px rgba(60, 64, 67, 0.15);\n",
              "    fill: var(--button-hover-fill-color);\n",
              "  }\n",
              "\n",
              "  .colab-df-quickchart-complete:disabled,\n",
              "  .colab-df-quickchart-complete:disabled:hover {\n",
              "    background-color: var(--disabled-bg-color);\n",
              "    fill: var(--disabled-fill-color);\n",
              "    box-shadow: none;\n",
              "  }\n",
              "\n",
              "  .colab-df-spinner {\n",
              "    border: 2px solid var(--fill-color);\n",
              "    border-color: transparent;\n",
              "    border-bottom-color: var(--fill-color);\n",
              "    animation:\n",
              "      spin 1s steps(1) infinite;\n",
              "  }\n",
              "\n",
              "  @keyframes spin {\n",
              "    0% {\n",
              "      border-color: transparent;\n",
              "      border-bottom-color: var(--fill-color);\n",
              "      border-left-color: var(--fill-color);\n",
              "    }\n",
              "    20% {\n",
              "      border-color: transparent;\n",
              "      border-left-color: var(--fill-color);\n",
              "      border-top-color: var(--fill-color);\n",
              "    }\n",
              "    30% {\n",
              "      border-color: transparent;\n",
              "      border-left-color: var(--fill-color);\n",
              "      border-top-color: var(--fill-color);\n",
              "      border-right-color: var(--fill-color);\n",
              "    }\n",
              "    40% {\n",
              "      border-color: transparent;\n",
              "      border-right-color: var(--fill-color);\n",
              "      border-top-color: var(--fill-color);\n",
              "    }\n",
              "    60% {\n",
              "      border-color: transparent;\n",
              "      border-right-color: var(--fill-color);\n",
              "    }\n",
              "    80% {\n",
              "      border-color: transparent;\n",
              "      border-right-color: var(--fill-color);\n",
              "      border-bottom-color: var(--fill-color);\n",
              "    }\n",
              "    90% {\n",
              "      border-color: transparent;\n",
              "      border-bottom-color: var(--fill-color);\n",
              "    }\n",
              "  }\n",
              "</style>\n",
              "\n",
              "  <script>\n",
              "    async function quickchart(key) {\n",
              "      const quickchartButtonEl =\n",
              "        document.querySelector('#' + key + ' button');\n",
              "      quickchartButtonEl.disabled = true;  // To prevent multiple clicks.\n",
              "      quickchartButtonEl.classList.add('colab-df-spinner');\n",
              "      try {\n",
              "        const charts = await google.colab.kernel.invokeFunction(\n",
              "            'suggestCharts', [key], {});\n",
              "      } catch (error) {\n",
              "        console.error('Error during call to suggestCharts:', error);\n",
              "      }\n",
              "      quickchartButtonEl.classList.remove('colab-df-spinner');\n",
              "      quickchartButtonEl.classList.add('colab-df-quickchart-complete');\n",
              "    }\n",
              "    (() => {\n",
              "      let quickchartButtonEl =\n",
              "        document.querySelector('#df-dc90ef39-cb66-4c1d-bde2-3ccd961dc91a button');\n",
              "      quickchartButtonEl.style.display =\n",
              "        google.colab.kernel.accessAllowed ? 'block' : 'none';\n",
              "    })();\n",
              "  </script>\n",
              "</div>\n",
              "\n",
              "    </div>\n",
              "  </div>\n"
            ]
          },
          "metadata": {},
          "execution_count": 12
        }
      ]
    },
    {
      "cell_type": "code",
      "source": [
        "# extract sepal length and sepal width of setosa and versicolor for our binary calssification problem\n",
        "X = df.iloc[50:150, [1, 2]].values\n",
        "\n",
        "y = df.iloc[0:100, 5].values\n",
        "# set output lable value to 1 if it is setosa and 0 if versicolor.\n",
        "y = np.where(y == 'Iris-setosa', 1, 0)"
      ],
      "metadata": {
        "_cell_guid": "333be199-ef20-d258-770d-2ccc664060b1",
        "execution": {
          "iopub.status.busy": "2024-02-08T08:46:36.515909Z",
          "iopub.execute_input": "2024-02-08T08:46:36.516272Z",
          "iopub.status.idle": "2024-02-08T08:46:36.524420Z",
          "shell.execute_reply.started": "2024-02-08T08:46:36.516242Z",
          "shell.execute_reply": "2024-02-08T08:46:36.523186Z"
        },
        "trusted": true,
        "id": "7BnokXPa8mhT"
      },
      "execution_count": null,
      "outputs": []
    },
    {
      "cell_type": "code",
      "source": [
        "# features standerdization\n",
        "X_std = np.copy(X)\n",
        "\n",
        "X_std[:,0] = (X_std[:,0] - X_std[:,0].mean()) / X_std[:,0].std()\n",
        "X_std[:,1] = (X_std[:,1] - X_std[:,1].mean()) / X_std[:,1].std()"
      ],
      "metadata": {
        "_cell_guid": "54f3da65-ff60-8943-9826-8f3ad350c74e",
        "execution": {
          "iopub.status.busy": "2024-02-08T08:46:36.529346Z",
          "iopub.execute_input": "2024-02-08T08:46:36.529748Z",
          "iopub.status.idle": "2024-02-08T08:46:36.537858Z",
          "shell.execute_reply.started": "2024-02-08T08:46:36.529717Z",
          "shell.execute_reply": "2024-02-08T08:46:36.536855Z"
        },
        "trusted": true,
        "id": "STBtGqlj8mhU"
      },
      "execution_count": null,
      "outputs": []
    },
    {
      "cell_type": "markdown",
      "source": [
        "#### Logistic Regression Cost Function\n",
        "\n",
        "![enter image description here][1]\n",
        "\n",
        "  [1]: https://i.stack.imgur.com/2uGpX.png"
      ],
      "metadata": {
        "_cell_guid": "cfb2adba-11a1-e961-0b9c-d04e68c8e8ee",
        "id": "aXJKVYz68mhU"
      }
    },
    {
      "cell_type": "code",
      "source": [
        "# Define Logistic Regression hypothesis or sigmoid function\n",
        "\n",
        "def sigmoid(X, theta):\n",
        "\n",
        "    z = np.dot(X, theta[1:]) + theta[0]\n",
        "\n",
        "    return 1.0 / ( 1.0 + np.exp(-z))"
      ],
      "metadata": {
        "_cell_guid": "42675478-94bb-168e-4cec-e23192c0a1f6",
        "execution": {
          "iopub.status.busy": "2024-02-08T08:46:36.539832Z",
          "iopub.execute_input": "2024-02-08T08:46:36.540201Z",
          "iopub.status.idle": "2024-02-08T08:46:36.547638Z",
          "shell.execute_reply.started": "2024-02-08T08:46:36.540172Z",
          "shell.execute_reply": "2024-02-08T08:46:36.546548Z"
        },
        "trusted": true,
        "id": "lIoUJZvh8mhV"
      },
      "execution_count": null,
      "outputs": []
    },
    {
      "cell_type": "code",
      "source": [
        "# Define Logistic Regression Cost Function\n",
        "def lrCostFunction(y, hx):\n",
        "\n",
        "    # compute cost for given theta parameters\n",
        "    j = -y.dot(np.log(hx)) - ((1 - y).dot(np.log(1-hx)))\n",
        "\n",
        "    return j"
      ],
      "metadata": {
        "_cell_guid": "f9d737a9-5b8c-4a99-742b-4111e4d2ccc3",
        "execution": {
          "iopub.status.busy": "2024-02-08T08:46:36.549572Z",
          "iopub.execute_input": "2024-02-08T08:46:36.550379Z",
          "iopub.status.idle": "2024-02-08T08:46:36.556609Z",
          "shell.execute_reply.started": "2024-02-08T08:46:36.550349Z",
          "shell.execute_reply": "2024-02-08T08:46:36.555429Z"
        },
        "trusted": true,
        "id": "KWz_4l0s8mhW"
      },
      "execution_count": null,
      "outputs": []
    },
    {
      "cell_type": "code",
      "source": [
        "# Gradient Descent function to minimize the Logistic Regression Cost Function.\n",
        "def lrGradient(X, y, theta, alpha, num_iter):\n",
        "    # empty list to store the value of the cost function over number of iterations\n",
        "    cost = []\n",
        "\n",
        "    for i in range(num_iter):\n",
        "        # call sigmoid function\n",
        "        hx = sigmoid(X, theta)\n",
        "        # calculate error\n",
        "        error = hx - y\n",
        "        # calculate gradient\n",
        "        grad = X.T.dot(error)\n",
        "        # update values in theta\n",
        "        theta[0] = theta[0] - alpha * error.sum()\n",
        "        theta[1:] = theta[1:] - alpha * grad\n",
        "\n",
        "        cost.append(lrCostFunction(y, hx))\n",
        "\n",
        "    return cost\n"
      ],
      "metadata": {
        "_cell_guid": "c96464e8-aa47-a934-fb13-2a452d54fa11",
        "execution": {
          "iopub.status.busy": "2024-02-08T08:46:36.557952Z",
          "iopub.execute_input": "2024-02-08T08:46:36.558616Z",
          "iopub.status.idle": "2024-02-08T08:46:36.567998Z",
          "shell.execute_reply.started": "2024-02-08T08:46:36.558586Z",
          "shell.execute_reply": "2024-02-08T08:46:36.566955Z"
        },
        "trusted": true,
        "id": "cuuSmfgD8mhX"
      },
      "execution_count": null,
      "outputs": []
    },
    {
      "cell_type": "code",
      "source": [
        "# m = Number of training examples\n",
        "# n = number of features\n",
        "m, n = X.shape\n",
        "\n",
        "# initialize theta(weights) parameters to zeros\n",
        "theta = np.zeros(1+n)\n",
        "\n",
        "# set learning rate to 0.01 and number of iterations to 500\n",
        "alpha = 0.01\n",
        "num_iter = 500\n",
        "\n",
        "cost = lrGradient(X_std, y, theta, alpha, num_iter)"
      ],
      "metadata": {
        "_cell_guid": "14d64d3f-9d9e-7c69-58ca-da0a237937a3",
        "execution": {
          "iopub.status.busy": "2024-02-08T08:46:36.569611Z",
          "iopub.execute_input": "2024-02-08T08:46:36.570048Z",
          "iopub.status.idle": "2024-02-08T08:46:36.608630Z",
          "shell.execute_reply.started": "2024-02-08T08:46:36.570014Z",
          "shell.execute_reply": "2024-02-08T08:46:36.607334Z"
        },
        "trusted": true,
        "id": "-mOpQGWA8mhX"
      },
      "execution_count": null,
      "outputs": []
    },
    {
      "cell_type": "code",
      "source": [
        "# Make a plot with number of iterations on the x-axis and the cost function on y-axis\n",
        "plt.plot(range(1, len(cost) + 1), cost)\n",
        "plt.xlabel('Iterations')\n",
        "plt.ylabel('Cost')\n",
        "plt.title('Logistic Regression')"
      ],
      "metadata": {
        "_cell_guid": "e6873e23-ef33-de7d-0e33-6d8fadf1e3d0",
        "execution": {
          "iopub.status.busy": "2024-02-08T08:46:36.610157Z",
          "iopub.execute_input": "2024-02-08T08:46:36.610510Z",
          "iopub.status.idle": "2024-02-08T08:46:36.941024Z",
          "shell.execute_reply.started": "2024-02-08T08:46:36.610472Z",
          "shell.execute_reply": "2024-02-08T08:46:36.939738Z"
        },
        "trusted": true,
        "id": "wyy-Bciy8mhX",
        "outputId": "27138b2a-c496-44bc-c951-f4a65445077c",
        "colab": {
          "base_uri": "https://localhost:8080/",
          "height": 489
        }
      },
      "execution_count": null,
      "outputs": [
        {
          "output_type": "execute_result",
          "data": {
            "text/plain": [
              "Text(0.5, 1.0, 'Logistic Regression')"
            ]
          },
          "metadata": {},
          "execution_count": 38
        },
        {
          "output_type": "display_data",
          "data": {
            "text/plain": [
              "<Figure size 640x480 with 1 Axes>"
            ],
            "image/png": "[encoded data removed]"
          },
          "metadata": {}
        }
      ]
    },
    {
      "cell_type": "code",
      "source": [
        "# print theta paramters\n",
        "print ('\\n Logisitc Regression bias(intercept) term :', theta[0])\n",
        "print ('\\n Logisitc Regression estimated coefficients :', theta[1:])"
      ],
      "metadata": {
        "_cell_guid": "986837ce-a646-1c93-453f-37c30f2ad179",
        "execution": {
          "iopub.status.busy": "2024-02-08T08:46:36.945723Z",
          "iopub.execute_input": "2024-02-08T08:46:36.946147Z",
          "iopub.status.idle": "2024-02-08T08:46:36.952479Z",
          "shell.execute_reply.started": "2024-02-08T08:46:36.946116Z",
          "shell.execute_reply": "2024-02-08T08:46:36.951333Z"
        },
        "trusted": true,
        "id": "FSAeHZ8Y8mhY",
        "outputId": "d6adc016-4cac-4714-8e10-de97760c46f9",
        "colab": {
          "base_uri": "https://localhost:8080/"
        }
      },
      "execution_count": null,
      "outputs": [
        {
          "output_type": "stream",
          "name": "stdout",
          "text": [
            "\n",
            " Logisitc Regression bias(intercept) term : -0.028825799661889417\n",
            "\n",
            " Logisitc Regression estimated coefficients : [-1.25463917 -0.13397588]\n"
          ]
        }
      ]
    },
    {
      "cell_type": "code",
      "source": [
        "# function to predict the output label using the parameters\n",
        "def lrPredict(X):\n",
        "\n",
        "    return np.where(sigmoid(X,theta) >= 0.5, 1, 0)"
      ],
      "metadata": {
        "_cell_guid": "dd53c954-70a2-44f9-3650-4b6221c4295d",
        "execution": {
          "iopub.status.busy": "2024-02-08T08:46:36.953999Z",
          "iopub.execute_input": "2024-02-08T08:46:36.954409Z",
          "iopub.status.idle": "2024-02-08T08:46:36.962762Z",
          "shell.execute_reply.started": "2024-02-08T08:46:36.954371Z",
          "shell.execute_reply": "2024-02-08T08:46:36.961444Z"
        },
        "trusted": true,
        "id": "rFT7E-6L8mhY"
      },
      "execution_count": null,
      "outputs": []
    },
    {
      "cell_type": "code",
      "source": [
        "from matplotlib.colors import ListedColormap\n",
        "\n",
        "def plot_decision_boundry(X, y, classifier, h=0.02):\n",
        "    # h = step size in the mesh\n",
        "\n",
        "    # setup marker generator and color map\n",
        "    markers = ('s', 'x', 'o', '^', 'v')\n",
        "    colors = ('red', 'blue', 'lightgreen', 'gray', 'cyan')\n",
        "    cmap = ListedColormap(colors[:len(np.unique(y))])\n",
        "\n",
        "    # plot the decision surface\n",
        "    x1_min, x1_max = X[:, 0].min() - 1, X[:, 0].max() + 1\n",
        "    x2_min, x2_max = X[:, 1].min() - 1, X[:, 1].max() + 1\n",
        "    xx1, xx2 = np.meshgrid(np.arange(x1_min, x1_max, h),\n",
        "                         np.arange(x2_min, x2_max, h))\n",
        "    Z = classifier(np.array([xx1.ravel(), xx2.ravel()]).T)\n",
        "    Z = Z.reshape(xx1.shape)\n",
        "    plt.contourf(xx1, xx2, Z, alpha=0.4, cmap=cmap)\n",
        "    plt.xlim(xx1.min(), xx1.max())\n",
        "    plt.ylim(xx2.min(), xx2.max())\n",
        "\n",
        "    # plot class samples\n",
        "    for idx, cl in enumerate(np.unique(y)):\n",
        "        plt.scatter(x=X[y == cl, 0], y=X[y == cl, 1],\n",
        "                    alpha=0.8, c=cmap(idx),\n",
        "                    marker=markers[idx], label=cl)\n"
      ],
      "metadata": {
        "_cell_guid": "8c183a24-319a-36e8-9c00-db4c81204307",
        "execution": {
          "iopub.status.busy": "2024-02-08T08:46:36.964115Z",
          "iopub.execute_input": "2024-02-08T08:46:36.964887Z",
          "iopub.status.idle": "2024-02-08T08:46:36.980235Z",
          "shell.execute_reply.started": "2024-02-08T08:46:36.964856Z",
          "shell.execute_reply": "2024-02-08T08:46:36.978805Z"
        },
        "trusted": true,
        "id": "r0R6p3nP8mhY"
      },
      "execution_count": null,
      "outputs": []
    },
    {
      "cell_type": "code",
      "source": [
        "plot_decision_boundry(X_std, y, classifier=lrPredict)\n",
        "plt.title('Standardized Logistic Regression - Gradient Descent')\n",
        "plt.xlabel('sepal length ')\n",
        "plt.ylabel('sepal width ')\n",
        "plt.legend(loc='upper left')\n",
        "plt.tight_layout()"
      ],
      "metadata": {
        "_cell_guid": "990808cd-750b-7744-bd22-3a9fd5433c37",
        "execution": {
          "iopub.status.busy": "2024-02-08T08:46:36.981641Z",
          "iopub.execute_input": "2024-02-08T08:46:36.982814Z",
          "iopub.status.idle": "2024-02-08T08:46:37.480545Z",
          "shell.execute_reply.started": "2024-02-08T08:46:36.982749Z",
          "shell.execute_reply": "2024-02-08T08:46:37.479241Z"
        },
        "trusted": true,
        "id": "xZvC36t68mhY",
        "outputId": "e4d1fb87-1a70-4de5-e48f-9c62bb9b225d",
        "colab": {
          "base_uri": "https://localhost:8080/",
          "height": 541
        }
      },
      "execution_count": null,
      "outputs": [
        {
          "output_type": "stream",
          "name": "stderr",
          "text": [
            "<ipython-input-41-b34fd2ec1973>:24: UserWarning: *c* argument looks like a single numeric RGB or RGBA sequence, which should be avoided as value-mapping will have precedence in case its length matches with *x* & *y*.  Please use the *color* keyword-argument or provide a 2D array with a single row if you intend to specify the same RGB or RGBA value for all points.\n",
            "  plt.scatter(x=X[y == cl, 0], y=X[y == cl, 1],\n"
          ]
        },
        {
          "output_type": "display_data",
          "data": {
            "text/plain": [
              "<Figure size 640x480 with 1 Axes>"
            ],
            "image/png": "[encoded data removed]"
          },
          "metadata": {}
        }
      ]
    },
    {
      "cell_type": "code",
      "source": [
        "from sklearn import linear_model\n",
        "\n",
        "logreg = linear_model.LogisticRegression()\n",
        "\n",
        "logreg.fit(X_std, y)\n",
        "\n",
        "# print theta paramters\n",
        "print ('\\n sklearn bias(intercept) term :', logreg.intercept_)\n",
        "print ('\\n sklearn estimated coefficients :', logreg.coef_)"
      ],
      "metadata": {
        "_cell_guid": "f34dc51c-be6a-419b-588c-90465cb2c30d",
        "execution": {
          "iopub.status.busy": "2024-02-08T08:46:37.482216Z",
          "iopub.execute_input": "2024-02-08T08:46:37.483144Z",
          "iopub.status.idle": "2024-02-08T08:46:38.432883Z",
          "shell.execute_reply.started": "2024-02-08T08:46:37.483102Z",
          "shell.execute_reply": "2024-02-08T08:46:38.431517Z"
        },
        "trusted": true,
        "id": "diaOWLNc8mhZ",
        "outputId": "a63ae4d8-cf50-428d-9557-1bc0edc81c5e",
        "colab": {
          "base_uri": "https://localhost:8080/"
        }
      },
      "execution_count": null,
      "outputs": [
        {
          "output_type": "stream",
          "name": "stdout",
          "text": [
            "\n",
            " sklearn bias(intercept) term : [-0.2879227]\n",
            "\n",
            " sklearn estimated coefficients : [[-2.72500135  2.23666884]]\n"
          ]
        }
      ]
    },
    {
      "cell_type": "code",
      "source": [
        "plot_decision_boundry(X_std, y, classifier=logreg.predict)\n",
        "plt.title('Scikit  learn Logistic Regression Classifier')\n",
        "plt.xlabel('sepal length ')\n",
        "plt.ylabel('sepal width ')\n",
        "plt.legend(loc='upper left')\n",
        "plt.tight_layout()"
      ],
      "metadata": {
        "_cell_guid": "2da841e0-1005-aa06-155b-02c6ab6d5904",
        "execution": {
          "iopub.status.busy": "2024-02-08T08:46:38.434751Z",
          "iopub.execute_input": "2024-02-08T08:46:38.435598Z",
          "iopub.status.idle": "2024-02-08T08:46:38.929062Z",
          "shell.execute_reply.started": "2024-02-08T08:46:38.435555Z",
          "shell.execute_reply": "2024-02-08T08:46:38.927887Z"
        },
        "trusted": true,
        "id": "SZWjBL4_8mhZ",
        "outputId": "013d4dc3-d2ed-4ae8-a480-58908691af89",
        "colab": {
          "base_uri": "https://localhost:8080/",
          "height": 541
        }
      },
      "execution_count": null,
      "outputs": [
        {
          "output_type": "stream",
          "name": "stderr",
          "text": [
            "<ipython-input-22-b34fd2ec1973>:24: UserWarning: *c* argument looks like a single numeric RGB or RGBA sequence, which should be avoided as value-mapping will have precedence in case its length matches with *x* & *y*.  Please use the *color* keyword-argument or provide a 2D array with a single row if you intend to specify the same RGB or RGBA value for all points.\n",
            "  plt.scatter(x=X[y == cl, 0], y=X[y == cl, 1],\n"
          ]
        },
        {
          "output_type": "display_data",
          "data": {
            "text/plain": [
              "<Figure size 640x480 with 1 Axes>"
            ],
            "image/png": "[encoded data removed]"
          },
          "metadata": {}
        }
      ]
    },
    {
      "cell_type": "code",
      "source": [],
      "metadata": {
        "_cell_guid": "dc4de1d4-5f2c-57b3-4386-d6ca888dee6c",
        "id": "mn11tr1d8mhZ"
      },
      "execution_count": null,
      "outputs": []
    }
  ]
}